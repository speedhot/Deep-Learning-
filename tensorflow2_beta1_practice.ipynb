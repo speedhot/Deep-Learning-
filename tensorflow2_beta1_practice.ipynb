{
  "nbformat": 4,
  "nbformat_minor": 0,
  "metadata": {
    "colab": {
      "name": "tensorflow2.X_p_1.ipynb",
      "provenance": [],
      "collapsed_sections": [],
      "toc_visible": true
    },
    "kernelspec": {
      "name": "python3",
      "display_name": "Python 3"
    }
  },
  "cells": [
    {
      "cell_type": "code",
      "metadata": {
        "id": "tW795-S2ejc5",
        "colab_type": "code",
        "outputId": "fad6366c-72f5-4717-eefa-af96d465c069",
        "colab": {
          "base_uri": "https://localhost:8080/",
          "height": 377
        }
      },
      "source": [
        "from __future__ import  absolute_import, division, print_function, unicode_literals\n",
        "!pip install tensorflow==2.0.0beta-1"
      ],
      "execution_count": 1,
      "outputs": [
        {
          "output_type": "stream",
          "text": [
            "Requirement already satisfied: tensorflow==2.0.0beta-1 in /usr/local/lib/python3.6/dist-packages (2.0.0b1)\n",
            "Requirement already satisfied: gast>=0.2.0 in /usr/local/lib/python3.6/dist-packages (from tensorflow==2.0.0beta-1) (0.2.2)\n",
            "Requirement already satisfied: tb-nightly<1.14.0a20190604,>=1.14.0a20190603 in /usr/local/lib/python3.6/dist-packages (from tensorflow==2.0.0beta-1) (1.14.0a20190603)\n",
            "Requirement already satisfied: keras-applications>=1.0.6 in /usr/local/lib/python3.6/dist-packages (from tensorflow==2.0.0beta-1) (1.0.8)\n",
            "Requirement already satisfied: google-pasta>=0.1.6 in /usr/local/lib/python3.6/dist-packages (from tensorflow==2.0.0beta-1) (0.1.7)\n",
            "Requirement already satisfied: termcolor>=1.1.0 in /usr/local/lib/python3.6/dist-packages (from tensorflow==2.0.0beta-1) (1.1.0)\n",
            "Requirement already satisfied: protobuf>=3.6.1 in /usr/local/lib/python3.6/dist-packages (from tensorflow==2.0.0beta-1) (3.7.1)\n",
            "Requirement already satisfied: astor>=0.6.0 in /usr/local/lib/python3.6/dist-packages (from tensorflow==2.0.0beta-1) (0.8.0)\n",
            "Requirement already satisfied: grpcio>=1.8.6 in /usr/local/lib/python3.6/dist-packages (from tensorflow==2.0.0beta-1) (1.15.0)\n",
            "Requirement already satisfied: numpy<2.0,>=1.14.5 in /usr/local/lib/python3.6/dist-packages (from tensorflow==2.0.0beta-1) (1.16.5)\n",
            "Requirement already satisfied: wheel>=0.26 in /usr/local/lib/python3.6/dist-packages (from tensorflow==2.0.0beta-1) (0.33.6)\n",
            "Requirement already satisfied: six>=1.10.0 in /usr/local/lib/python3.6/dist-packages (from tensorflow==2.0.0beta-1) (1.12.0)\n",
            "Requirement already satisfied: absl-py>=0.7.0 in /usr/local/lib/python3.6/dist-packages (from tensorflow==2.0.0beta-1) (0.8.0)\n",
            "Requirement already satisfied: tf-estimator-nightly<1.14.0.dev2019060502,>=1.14.0.dev2019060501 in /usr/local/lib/python3.6/dist-packages (from tensorflow==2.0.0beta-1) (1.14.0.dev2019060501)\n",
            "Requirement already satisfied: wrapt>=1.11.1 in /usr/local/lib/python3.6/dist-packages (from tensorflow==2.0.0beta-1) (1.11.2)\n",
            "Requirement already satisfied: keras-preprocessing>=1.0.5 in /usr/local/lib/python3.6/dist-packages (from tensorflow==2.0.0beta-1) (1.1.0)\n",
            "Requirement already satisfied: werkzeug>=0.11.15 in /usr/local/lib/python3.6/dist-packages (from tb-nightly<1.14.0a20190604,>=1.14.0a20190603->tensorflow==2.0.0beta-1) (0.16.0)\n",
            "Requirement already satisfied: setuptools>=41.0.0 in /usr/local/lib/python3.6/dist-packages (from tb-nightly<1.14.0a20190604,>=1.14.0a20190603->tensorflow==2.0.0beta-1) (41.2.0)\n",
            "Requirement already satisfied: markdown>=2.6.8 in /usr/local/lib/python3.6/dist-packages (from tb-nightly<1.14.0a20190604,>=1.14.0a20190603->tensorflow==2.0.0beta-1) (3.1.1)\n",
            "Requirement already satisfied: h5py in /usr/local/lib/python3.6/dist-packages (from keras-applications>=1.0.6->tensorflow==2.0.0beta-1) (2.8.0)\n"
          ],
          "name": "stdout"
        }
      ]
    },
    {
      "cell_type": "code",
      "metadata": {
        "id": "Bvi33f-Zfnq-",
        "colab_type": "code",
        "outputId": "30f36121-a1db-406e-883d-699a679b1aa2",
        "colab": {
          "base_uri": "https://localhost:8080/",
          "height": 51
        }
      },
      "source": [
        "#import and check version\n",
        "import tensorflow as tf\n",
        "import numpy as np\n",
        "print(tf.__version__)\n",
        "print(tf.keras.__version__)"
      ],
      "execution_count": 2,
      "outputs": [
        {
          "output_type": "stream",
          "text": [
            "2.0.0-beta1\n",
            "2.2.4-tf\n"
          ],
          "name": "stdout"
        }
      ]
    },
    {
      "cell_type": "markdown",
      "metadata": {
        "id": "CGZuiKOhf9OZ",
        "colab_type": "text"
      },
      "source": [
        "#Example 1:Linear Regression using tensorflow 2.0.0-beta1"
      ]
    },
    {
      "cell_type": "code",
      "metadata": {
        "id": "sb3WYFDli9gE",
        "colab_type": "code",
        "colab": {}
      },
      "source": [
        "import matplotlib.pyplot as plt"
      ],
      "execution_count": 0,
      "outputs": []
    },
    {
      "cell_type": "code",
      "metadata": {
        "id": "0VhFLnWuf6sd",
        "colab_type": "code",
        "colab": {}
      },
      "source": [
        "# Hyperparameters Parameters.\n",
        "learning_rate = 0.01\n",
        "training_steps = 1000\n",
        "display_step = 50"
      ],
      "execution_count": 0,
      "outputs": []
    },
    {
      "cell_type": "code",
      "metadata": {
        "id": "-rvYU0nBgjnR",
        "colab_type": "code",
        "colab": {}
      },
      "source": [
        "#load data  --- now taking random data but perform this with any csv data later------\n",
        "# Training Data.\n",
        "X = np.array([3.3,4.4,5.5,6.71,6.93,4.168,9.779,6.182,7.59,2.167,\n",
        "              7.042,10.791,5.313,7.997,5.654,9.27,3.1])\n",
        "Y = np.array([1.7,2.76,2.09,3.19,1.694,1.573,3.366,2.596,2.53,1.221,\n",
        "              2.827,3.465,1.65,2.904,2.42,2.94,1.3])\n",
        "n_samples = X.shape[0]\n"
      ],
      "execution_count": 0,
      "outputs": []
    },
    {
      "cell_type": "code",
      "metadata": {
        "id": "MCeuui0khD7_",
        "colab_type": "code",
        "colab": {}
      },
      "source": [
        "# Weight and Bias, initialized randomly.\n",
        "W = tf.Variable(np.random.randn(), name=\"weight\")\n",
        "b = tf.Variable(np.random.randn(), name=\"bias\")\n",
        "\n",
        "# Linear regression (Wx + b).\n",
        "def linear_regression(x):\n",
        "    return W * x + b\n",
        "\n",
        "# Mean square error.\n",
        "def mean_square(y_pred, y_true):\n",
        "    return tf.reduce_sum(tf.pow(y_pred-y_true, 2)) / (2 * n_samples)\n",
        "\n",
        "# Stochastic Gradient Descent Optimizer.\n",
        "optimizer = tf.optimizers.SGD(learning_rate)"
      ],
      "execution_count": 0,
      "outputs": []
    },
    {
      "cell_type": "code",
      "metadata": {
        "id": "bsWdRDZ9hatk",
        "colab_type": "code",
        "colab": {}
      },
      "source": [
        "# Optimization process. \n",
        "def run_optimization():\n",
        "    # Wrap computation inside a GradientTape for automatic differentiation.\n",
        "    with tf.GradientTape() as g:\n",
        "        pred = linear_regression(X)\n",
        "        loss = mean_square(pred, Y)\n",
        "\n",
        "    # Compute gradients.\n",
        "    gradients = g.gradient(loss, [W, b])\n",
        "    \n",
        "    # Update W and b following gradients.\n",
        "    optimizer.apply_gradients(zip(gradients, [W, b]))"
      ],
      "execution_count": 0,
      "outputs": []
    },
    {
      "cell_type": "code",
      "metadata": {
        "id": "79ODkmFAhuZW",
        "colab_type": "code",
        "outputId": "626f422a-73fe-4fde-cd29-9bd0f01ef21a",
        "colab": {
          "base_uri": "https://localhost:8080/",
          "height": 428
        }
      },
      "source": [
        "# Run training for the given number of steps.\n",
        "for step in range(1, training_steps + 1):\n",
        "    # Run the optimization to update W and b values.\n",
        "    run_optimization()\n",
        "    \n",
        "    if step % display_step == 0:\n",
        "        pred = linear_regression(X)\n",
        "        loss = mean_square(pred, Y)\n",
        "        print(f\"step: {step}, loss: {loss}, W: {W.numpy()}, b: { b.numpy()}\")"
      ],
      "execution_count": 8,
      "outputs": [
        {
          "output_type": "stream",
          "text": [
            "WARNING:tensorflow:From /usr/local/lib/python3.6/dist-packages/tensorflow/python/ops/math_grad.py:1205: add_dispatch_support.<locals>.wrapper (from tensorflow.python.ops.array_ops) is deprecated and will be removed in a future version.\n",
            "Instructions for updating:\n",
            "Use tf.where in 2.0, which has the same broadcast rule as np.where\n",
            "step: 50, loss: 0.2812540531158447, W: 0.5079066157341003, b: -1.018049716949463\n",
            "step: 100, loss: 0.257885217666626, W: 0.4928067922592163, b: -0.9109988212585449\n",
            "step: 150, loss: 0.2371891289949417, W: 0.4785967171192169, b: -0.8102554678916931\n",
            "step: 200, loss: 0.21886013448238373, W: 0.46522387862205505, b: -0.7154481410980225\n",
            "step: 250, loss: 0.2026272863149643, W: 0.4526389539241791, b: -0.6262267827987671\n",
            "step: 300, loss: 0.1882510930299759, W: 0.44079554080963135, b: -0.5422623753547668\n",
            "step: 350, loss: 0.1755191534757614, W: 0.42965003848075867, b: -0.46324560046195984\n",
            "step: 400, loss: 0.16424334049224854, W: 0.4191611707210541, b: -0.38888442516326904\n",
            "step: 450, loss: 0.154257133603096, W: 0.4092903435230255, b: -0.3189046084880829\n",
            "step: 500, loss: 0.14541304111480713, W: 0.4000011086463928, b: -0.2530481815338135\n",
            "step: 550, loss: 0.1375804990530014, W: 0.39125919342041016, b: -0.19107207655906677\n",
            "step: 600, loss: 0.13064372539520264, W: 0.3830324113368988, b: -0.13274766504764557\n",
            "step: 650, loss: 0.12450030446052551, W: 0.37529030442237854, b: -0.07785973697900772\n",
            "step: 700, loss: 0.11905956268310547, W: 0.3680044114589691, b: -0.0262058787047863\n",
            "step: 750, loss: 0.11424104124307632, W: 0.36114779114723206, b: 0.022404447197914124\n",
            "step: 800, loss: 0.10997362434864044, W: 0.3546951413154602, b: 0.0681506022810936\n",
            "step: 850, loss: 0.10619425773620605, W: 0.34862273931503296, b: 0.11120135337114334\n",
            "step: 900, loss: 0.10284716635942459, W: 0.34290811419487, b: 0.151715487241745\n",
            "step: 950, loss: 0.09988287091255188, W: 0.3375301957130432, b: 0.18984246253967285\n",
            "step: 1000, loss: 0.09725761413574219, W: 0.3324691653251648, b: 0.225722998380661\n"
          ],
          "name": "stdout"
        }
      ]
    },
    {
      "cell_type": "code",
      "metadata": {
        "id": "J1bJC34djHNf",
        "colab_type": "code",
        "outputId": "fb8fdd7e-c60b-4ac8-8e55-57b54eb696b7",
        "colab": {
          "base_uri": "https://localhost:8080/",
          "height": 286
        }
      },
      "source": [
        "# Graphic display\n",
        "tf.print(f\"final weight:{W.numpy()} and bias:{b.numpy()}\")\n",
        "plt.plot(X, Y, 'ro', label='Original data')\n",
        "plt.plot(X, np.array(W * X + b), label='Fitted line')\n",
        "\n",
        "plt.legend()\n",
        "plt.show()"
      ],
      "execution_count": 9,
      "outputs": [
        {
          "output_type": "stream",
          "text": [
            "final weight:0.3324691653251648 and bias:0.225722998380661\n"
          ],
          "name": "stdout"
        },
        {
          "output_type": "display_data",
          "data": {
            "image/png": "[encoded data removed]",
            "text/plain": [
              "<Figure size 432x288 with 1 Axes>"
            ]
          },
          "metadata": {
            "tags": []
          }
        }
      ]
    },
    {
      "cell_type": "markdown",
      "metadata": {
        "id": "BHkBgrTikOZX",
        "colab_type": "text"
      },
      "source": [
        "# Logistic Regression with tensorflow 2.0.0-beta1\n",
        "\n",
        "Over MNIST dataset available in colab"
      ]
    },
    {
      "cell_type": "code",
      "metadata": {
        "id": "6tOpPcaHkNOC",
        "colab_type": "code",
        "colab": {}
      },
      "source": [
        "# MNIST dataset parameters.\n",
        "num_classes = 10 # 0 to 9 digits\n",
        "image_vector_size = 784 # 28*28\n",
        "\n",
        "# Training parameters.\n",
        "learning_rate = 0.01\n",
        "training_steps = 1000\n",
        "batch_size = 156\n",
        "display_step = 50"
      ],
      "execution_count": 0,
      "outputs": []
    },
    {
      "cell_type": "code",
      "metadata": {
        "id": "WdoJ4fMJk-3C",
        "colab_type": "code",
        "outputId": "dbcad74e-2548-45d8-dace-86446b4a658d",
        "colab": {
          "base_uri": "https://localhost:8080/",
          "height": 102
        }
      },
      "source": [
        "# Prepare MNIST data.\n",
        "mnist = tf.keras.datasets.mnist\n",
        "(x_train, y_train), (x_test, y_test) = mnist.load_data()\n",
        "# Normalize images value as max value is 255\n",
        "x_train, x_test = x_train / 255, x_test / 255\n",
        "\n",
        "#checking shape for all and unique labels in target\n",
        "x_train.shape, y_train.shape, x_test.shape, y_test.shape, np.unique(y_train)"
      ],
      "execution_count": 99,
      "outputs": [
        {
          "output_type": "execute_result",
          "data": {
            "text/plain": [
              "((60000, 28, 28),\n",
              " (60000,),\n",
              " (10000, 28, 28),\n",
              " (10000,),\n",
              " array([0, 1, 2, 3, 4, 5, 6, 7, 8, 9], dtype=uint8))"
            ]
          },
          "metadata": {
            "tags": []
          },
          "execution_count": 99
        }
      ]
    },
    {
      "cell_type": "code",
      "metadata": {
        "id": "K0tvjSAomLKC",
        "colab_type": "code",
        "outputId": "f60e608a-a032-4f58-c5ae-770b349ada81",
        "colab": {
          "base_uri": "https://localhost:8080/",
          "height": 34
        }
      },
      "source": [
        "#checking datatypes\n",
        "x_train.dtype, y_train.dtype, x_test.dtype, y_test.dtype"
      ],
      "execution_count": 100,
      "outputs": [
        {
          "output_type": "execute_result",
          "data": {
            "text/plain": [
              "(dtype('float64'), dtype('uint8'), dtype('float64'), dtype('uint8'))"
            ]
          },
          "metadata": {
            "tags": []
          },
          "execution_count": 100
        }
      ]
    },
    {
      "cell_type": "code",
      "metadata": {
        "id": "mkjWD12-ZByU",
        "colab_type": "code",
        "colab": {
          "base_uri": "https://localhost:8080/",
          "height": 34
        },
        "outputId": "90938006-4452-4c51-cbe3-abc8fd572b90"
      },
      "source": [
        "#coverting to float32 as random generated weight will be in float32\n",
        "x_train, x_test = tf.cast(x_train, np.float32), tf.cast(x_test, np.float32)\n",
        "x_train.dtype, y_train.dtype, x_test.dtype, y_test.dtype"
      ],
      "execution_count": 101,
      "outputs": [
        {
          "output_type": "execute_result",
          "data": {
            "text/plain": [
              "(tf.float32, dtype('uint8'), tf.float32, dtype('uint8'))"
            ]
          },
          "metadata": {
            "tags": []
          },
          "execution_count": 101
        }
      ]
    },
    {
      "cell_type": "code",
      "metadata": {
        "id": "0R0rtEgHmgHV",
        "colab_type": "code",
        "outputId": "a2051297-6614-4d5e-a0f3-6fa8635b1229",
        "colab": {
          "base_uri": "https://localhost:8080/",
          "height": 623
        }
      },
      "source": [
        "#display image from train set and test set\n",
        "def display_image_label(featureset, labelset):\n",
        "  img_no= np.random.randint(0, featureset.shape[0])\n",
        "  img = featureset[img_no]\n",
        "  label= labelset[img_no]\n",
        "  print(f\" image no:{img_no}   Label:{label}\") # multiplying with 255 as we scaled with it\n",
        "  plt.imshow(img, cmap=plt.cm.binary)\n",
        "  plt.show()\n",
        "  \n",
        "print(\"Traing Set Sample Display:\\n\",\"=\"*50)\n",
        "display_image_label(x_train, y_train)\n",
        "print(\"Test Set Sample Display:\\n\",\"=\"*50)\n",
        "display_image_label(x_test, y_test)"
      ],
      "execution_count": 102,
      "outputs": [
        {
          "output_type": "stream",
          "text": [
            "Traing Set Sample Display:\n",
            " ==================================================\n",
            " image no:36653   Label:6\n"
          ],
          "name": "stdout"
        },
        {
          "output_type": "display_data",
          "data": {
            "image/png": "[encoded data removed]",
            "text/plain": [
              "<Figure size 432x288 with 1 Axes>"
            ]
          },
          "metadata": {
            "tags": []
          }
        },
        {
          "output_type": "stream",
          "text": [
            "Test Set Sample Display:\n",
            " ==================================================\n",
            " image no:1646   Label:1\n"
          ],
          "name": "stdout"
        },
        {
          "output_type": "display_data",
          "data": {
            "image/png": "[encoded data removed]",
            "text/plain": [
              "<Figure size 432x288 with 1 Axes>"
            ]
          },
          "metadata": {
            "tags": []
          }
        }
      ]
    },
    {
      "cell_type": "code",
      "metadata": {
        "id": "WdnTPHU5lhPA",
        "colab_type": "code",
        "colab": {}
      },
      "source": [
        "# Flatten images \n",
        "x_train=tf.reshape(x_train, [x_train.shape[0], image_vector_size])\n",
        "x_test=tf.reshape(x_test, [x_test.shape[0], image_vector_size])"
      ],
      "execution_count": 0,
      "outputs": []
    },
    {
      "cell_type": "code",
      "metadata": {
        "id": "noibrHeqoLRc",
        "colab_type": "code",
        "outputId": "15b9a755-49eb-4229-9e4a-6725db702e04",
        "colab": {
          "base_uri": "https://localhost:8080/",
          "height": 119
        }
      },
      "source": [
        "#checking shape for all and unique labels in target\n",
        "x_train.shape,x_train.dtype, y_train.shape, x_test.shape, y_test.shape, np.unique(y_train)"
      ],
      "execution_count": 104,
      "outputs": [
        {
          "output_type": "execute_result",
          "data": {
            "text/plain": [
              "(TensorShape([60000, 784]),\n",
              " tf.float32,\n",
              " (60000,),\n",
              " TensorShape([10000, 784]),\n",
              " (10000,),\n",
              " array([0, 1, 2, 3, 4, 5, 6, 7, 8, 9], dtype=uint8))"
            ]
          },
          "metadata": {
            "tags": []
          },
          "execution_count": 104
        }
      ]
    },
    {
      "cell_type": "code",
      "metadata": {
        "id": "pdlKqJESoVam",
        "colab_type": "code",
        "outputId": "ed2bb254-0f1e-4282-ace6-469abfc13220",
        "colab": {
          "base_uri": "https://localhost:8080/",
          "height": 623
        }
      },
      "source": [
        "#test if reshaped well\n",
        "def display_image_reshape_test(featureset, labelset):\n",
        "  img_no= np.random.randint(0, featureset.shape[0])\n",
        "  img = tf.reshape(featureset[img_no],[28,28])\n",
        "  label= labelset[img_no]\n",
        "  print(f\" image no:{img_no}  label is :{label}\") # multiplying with 255 as we scaled with it\n",
        "  plt.imshow(img, cmap=plt.cm.binary)\n",
        "  plt.show()\n",
        "  \n",
        "  \n",
        "print(\"Traing Set Sample Display:\\n\",\"=\"*50)\n",
        "display_image_reshape_test(x_train, y_train)\n",
        "print(\"Test Set Sample Display:\\n\",\"=\"*50)\n",
        "display_image_reshape_test(x_test, y_test)"
      ],
      "execution_count": 105,
      "outputs": [
        {
          "output_type": "stream",
          "text": [
            "Traing Set Sample Display:\n",
            " ==================================================\n",
            " image no:11024  label is :4\n"
          ],
          "name": "stdout"
        },
        {
          "output_type": "display_data",
          "data": {
            "image/png": "[encoded data removed]",
            "text/plain": [
              "<Figure size 432x288 with 1 Axes>"
            ]
          },
          "metadata": {
            "tags": []
          }
        },
        {
          "output_type": "stream",
          "text": [
            "Test Set Sample Display:\n",
            " ==================================================\n",
            " image no:9924  label is :9\n"
          ],
          "name": "stdout"
        },
        {
          "output_type": "display_data",
          "data": {
            "image/png": "[encoded data removed]",
            "text/plain": [
              "<Figure size 432x288 with 1 Axes>"
            ]
          },
          "metadata": {
            "tags": []
          }
        }
      ]
    },
    {
      "cell_type": "code",
      "metadata": {
        "id": "WqmNoEjAopHI",
        "colab_type": "code",
        "colab": {}
      },
      "source": [
        "# Use tf.data API to shuffle and batch data. can check --https://www.tensorflow.org/guide/data for description\n",
        "train_data = tf.data.Dataset.from_tensor_slices((x_train, y_train))\n",
        "train_data = train_data.repeat().shuffle(5000).batch(batch_size).prefetch(1)\n"
      ],
      "execution_count": 0,
      "outputs": []
    },
    {
      "cell_type": "code",
      "metadata": {
        "id": "Mfomhlr0Dw2T",
        "colab_type": "code",
        "colab": {}
      },
      "source": [
        "# Creating Weight Tensor of shape [784, 10]\n",
        "W = tf.Variable(tf.ones([image_vector_size, num_classes]), name=\"weight\")\n",
        "# Creating Bias Tensor of shape [10], the total number of classes.\n",
        "b = tf.Variable(tf.zeros([num_classes]), name=\"bias\")\n",
        "\n",
        "# Logistic regression softmax((Wx + b)), as multiclass classification\n",
        "def logistic_regression(x):\n",
        "    #Softmax\n",
        "    return tf.nn.softmax(tf.matmul(x, W) + b)\n",
        "\n",
        "# Cross-Entropy loss function.\n",
        "def cross_entropy(y_pred, y_true):\n",
        "    # One hot Encoded label as vector.\n",
        "    y_true = tf.one_hot(y_true, depth=num_classes)\n",
        "    # Clip to avoid log(0) error.\n",
        "    y_pred = tf.clip_by_value(y_pred, 1e-9, 1.)\n",
        "    # Compute cross-entropy.\n",
        "    return tf.reduce_mean(-tf.reduce_sum(y_true * tf.math.log(y_pred)))\n",
        "\n",
        "# Accuracy metric.\n",
        "def accuracy(y_pred, y_true):\n",
        "    # Computing accuracy by using argmax on softmax probabilities\n",
        "    correct_prediction = tf.equal(tf.argmax(y_pred, 1), tf.cast(y_true, tf.int64))\n",
        "    return tf.reduce_mean(tf.cast(correct_prediction, tf.float32))\n",
        "\n",
        "# SGD Optimizer.\n",
        "optimizer = tf.optimizers.SGD(learning_rate)\n"
      ],
      "execution_count": 0,
      "outputs": []
    },
    {
      "cell_type": "code",
      "metadata": {
        "id": "_lEqj2CmNnCz",
        "colab_type": "code",
        "colab": {}
      },
      "source": [
        "# Optimization \n",
        "def run_optimization(x, y):\n",
        "    # Wrap computation inside a GradientTape for automatic differentiation.\n",
        "    with tf.GradientTape() as g:\n",
        "        pred = logistic_regression(x)\n",
        "        loss = cross_entropy(pred, y)\n",
        "\n",
        "    # Compute gradients.\n",
        "    gradients = g.gradient(loss, [W, b])\n",
        "    \n",
        "    # Update W and b following gradients.\n",
        "    optimizer.apply_gradients(zip(gradients, [W, b]))"
      ],
      "execution_count": 0,
      "outputs": []
    },
    {
      "cell_type": "code",
      "metadata": {
        "id": "Ho5j8fG6N3dA",
        "colab_type": "code",
        "outputId": "7a231b1a-aeef-4ba6-e8fe-16817a308c06",
        "colab": {
          "base_uri": "https://localhost:8080/",
          "height": 609
        }
      },
      "source": [
        "loss_list, accuracy_list = [], []\n",
        "# Run training for the given number of steps.\n",
        "for step, (batch_x, batch_y) in enumerate(train_data.take(training_steps), 1):\n",
        "    # Run the optimization to update W and b values.\n",
        "    run_optimization(batch_x, batch_y)\n",
        "    \n",
        "    if step % display_step == 0:\n",
        "        pred = logistic_regression(batch_x)\n",
        "        loss = cross_entropy(pred, batch_y)\n",
        "        loss_list.append(loss)\n",
        "        acc = accuracy(pred, batch_y)\n",
        "        accuracy_list.append(acc)\n",
        "        print(f\"step: {step}, loss: {loss}, accuracy: {acc}\")\n",
        "\n",
        "plt.plot(loss_list, label=\"Loss\")\n",
        "\n",
        "plt.legend()\n",
        "plt.show()"
      ],
      "execution_count": 109,
      "outputs": [
        {
          "output_type": "stream",
          "text": [
            "step: 50, loss: 56.62610626220703, accuracy: 0.9166666865348816\n",
            "step: 100, loss: 33.428680419921875, accuracy: 0.942307710647583\n",
            "step: 150, loss: 46.19032287597656, accuracy: 0.8974359035491943\n",
            "step: 200, loss: 43.337188720703125, accuracy: 0.9166666865348816\n",
            "step: 250, loss: 36.476253509521484, accuracy: 0.9294871687889099\n",
            "step: 300, loss: 21.453079223632812, accuracy: 0.9487179517745972\n",
            "step: 350, loss: 46.46192169189453, accuracy: 0.9230769276618958\n",
            "step: 400, loss: 50.78899002075195, accuracy: 0.9358974099159241\n",
            "step: 450, loss: 34.14408493041992, accuracy: 0.9358974099159241\n",
            "step: 500, loss: 37.07732391357422, accuracy: 0.942307710647583\n",
            "step: 550, loss: 37.0998420715332, accuracy: 0.9358974099159241\n",
            "step: 600, loss: 36.55387878417969, accuracy: 0.9230769276618958\n",
            "step: 650, loss: 31.13039207458496, accuracy: 0.9679487347602844\n",
            "step: 700, loss: 25.150299072265625, accuracy: 0.942307710647583\n",
            "step: 750, loss: 28.70367431640625, accuracy: 0.9487179517745972\n",
            "step: 800, loss: 44.78013229370117, accuracy: 0.9230769276618958\n",
            "step: 850, loss: 70.03068542480469, accuracy: 0.8974359035491943\n",
            "step: 900, loss: 65.77033996582031, accuracy: 0.9166666865348816\n",
            "step: 950, loss: 32.05731201171875, accuracy: 0.9358974099159241\n",
            "step: 1000, loss: 35.07414245605469, accuracy: 0.9615384340286255\n"
          ],
          "name": "stdout"
        },
        {
          "output_type": "display_data",
          "data": {
            "image/png": "[encoded data removed]",
            "text/plain": [
              "<Figure size 432x288 with 1 Axes>"
            ]
          },
          "metadata": {
            "tags": []
          }
        }
      ]
    },
    {
      "cell_type": "code",
      "metadata": {
        "id": "gEF_MB6TTpDQ",
        "colab_type": "code",
        "colab": {
          "base_uri": "https://localhost:8080/",
          "height": 269
        },
        "outputId": "b4be5a79-a234-4c32-eaa6-09c955db1f7e"
      },
      "source": [
        "plt.plot(accuracy_list, label=\"Accuracy\")\n",
        "plt.legend()\n",
        "plt.show()"
      ],
      "execution_count": 110,
      "outputs": [
        {
          "output_type": "display_data",
          "data": {
            "image/png": "[encoded data removed]",
            "text/plain": [
              "<Figure size 432x288 with 1 Axes>"
            ]
          },
          "metadata": {
            "tags": []
          }
        }
      ]
    },
    {
      "cell_type": "code",
      "metadata": {
        "id": "ELrR52FcAzRX",
        "colab_type": "code",
        "colab": {
          "base_uri": "https://localhost:8080/",
          "height": 1000
        },
        "outputId": "67747d53-8be0-4ef1-9afd-6ae1c908fd8d"
      },
      "source": [
        "\n",
        "\n",
        "def random_validation_test(test_dataset, test_labelset):\n",
        "  start_chunk = np.random.randint(0, test_dataset.shape[0])\n",
        "  end_chunk = start_chunk+10\n",
        "  images = test_dataset[start_chunk:end_chunk]\n",
        "  predicted = logistic_regression(test_dataset[start_chunk:end_chunk])\n",
        "  counter = 0;\n",
        "  correct = 0;\n",
        "  for img in range(start_chunk,end_chunk):\n",
        "    plt.imshow(tf.reshape(test_dataset[img],[28,28]), cmap='gray')\n",
        "    plt.show()\n",
        "    pred = np.argmax(predicted.numpy()[counter])\n",
        "    act_label = test_labelset[img]\n",
        "    \n",
        "    if pred == act_label:\n",
        "      status = \"Congratulations! Predicted Correctly.\"\n",
        "      correct +=1\n",
        "    else:\n",
        "      status = \"Opps! Wrong Prediction.\"\n",
        "    print(f\"Image No. : {img} , Predicted Label by Model :{pred}, Actual Label: {act_label}, Status: {status}\")\n",
        "    \n",
        "    counter = counter+1;\n",
        "  print(f\"{correct} prediction out of {10}\")  \n",
        "  \n",
        "random_validation_test(x_test, y_test)"
      ],
      "execution_count": 111,
      "outputs": [
        {
          "output_type": "display_data",
          "data": {
            "image/png": "[encoded data removed]",
            "text/plain": [
              "<Figure size 432x288 with 1 Axes>"
            ]
          },
          "metadata": {
            "tags": []
          }
        },
        {
          "output_type": "stream",
          "text": [
            "Image No. : 7119 , Predicted Label by Model :3, Actual Label: 3, Status: Congratulations! Predicted Correctly.\n"
          ],
          "name": "stdout"
        },
        {
          "output_type": "display_data",
          "data": {
            "image/png": "[encoded data removed]",
            "text/plain": [
              "<Figure size 432x288 with 1 Axes>"
            ]
          },
          "metadata": {
            "tags": []
          }
        },
        {
          "output_type": "stream",
          "text": [
            "Image No. : 7120 , Predicted Label by Model :2, Actual Label: 2, Status: Congratulations! Predicted Correctly.\n"
          ],
          "name": "stdout"
        },
        {
          "output_type": "display_data",
          "data": {
            "image/png": "[encoded data removed]",
            "text/plain": [
              "<Figure size 432x288 with 1 Axes>"
            ]
          },
          "metadata": {
            "tags": []
          }
        },
        {
          "output_type": "stream",
          "text": [
            "Image No. : 7121 , Predicted Label by Model :9, Actual Label: 8, Status: Opps! Wrong Prediction.\n"
          ],
          "name": "stdout"
        },
        {
          "output_type": "display_data",
          "data": {
            "image/png": "[encoded data removed]",
            "text/plain": [
              "<Figure size 432x288 with 1 Axes>"
            ]
          },
          "metadata": {
            "tags": []
          }
        },
        {
          "output_type": "stream",
          "text": [
            "Image No. : 7122 , Predicted Label by Model :6, Actual Label: 6, Status: Congratulations! Predicted Correctly.\n"
          ],
          "name": "stdout"
        },
        {
          "output_type": "display_data",
          "data": {
            "image/png": "[encoded data removed]",
            "text/plain": [
              "<Figure size 432x288 with 1 Axes>"
            ]
          },
          "metadata": {
            "tags": []
          }
        },
        {
          "output_type": "stream",
          "text": [
            "Image No. : 7123 , Predicted Label by Model :1, Actual Label: 1, Status: Congratulations! Predicted Correctly.\n"
          ],
          "name": "stdout"
        },
        {
          "output_type": "display_data",
          "data": {
            "image/png": "[encoded data removed]",
            "text/plain": [
              "<Figure size 432x288 with 1 Axes>"
            ]
          },
          "metadata": {
            "tags": []
          }
        },
        {
          "output_type": "stream",
          "text": [
            "Image No. : 7124 , Predicted Label by Model :7, Actual Label: 7, Status: Congratulations! Predicted Correctly.\n"
          ],
          "name": "stdout"
        },
        {
          "output_type": "display_data",
          "data": {
            "image/png": "[encoded data removed]",
            "text/plain": [
              "<Figure size 432x288 with 1 Axes>"
            ]
          },
          "metadata": {
            "tags": []
          }
        },
        {
          "output_type": "stream",
          "text": [
            "Image No. : 7125 , Predicted Label by Model :4, Actual Label: 4, Status: Congratulations! Predicted Correctly.\n"
          ],
          "name": "stdout"
        },
        {
          "output_type": "display_data",
          "data": {
            "image/png": "[encoded data removed]",
            "text/plain": [
              "<Figure size 432x288 with 1 Axes>"
            ]
          },
          "metadata": {
            "tags": []
          }
        },
        {
          "output_type": "stream",
          "text": [
            "Image No. : 7126 , Predicted Label by Model :8, Actual Label: 8, Status: Congratulations! Predicted Correctly.\n"
          ],
          "name": "stdout"
        },
        {
          "output_type": "display_data",
          "data": {
            "image/png": "[encoded data removed]",
            "text/plain": [
              "<Figure size 432x288 with 1 Axes>"
            ]
          },
          "metadata": {
            "tags": []
          }
        },
        {
          "output_type": "stream",
          "text": [
            "Image No. : 7127 , Predicted Label by Model :8, Actual Label: 8, Status: Congratulations! Predicted Correctly.\n"
          ],
          "name": "stdout"
        },
        {
          "output_type": "display_data",
          "data": {
            "image/png": "[encoded data removed]",
            "text/plain": [
              "<Figure size 432x288 with 1 Axes>"
            ]
          },
          "metadata": {
            "tags": []
          }
        },
        {
          "output_type": "stream",
          "text": [
            "Image No. : 7128 , Predicted Label by Model :9, Actual Label: 9, Status: Congratulations! Predicted Correctly.\n",
            "9 prediction out of 10\n"
          ],
          "name": "stdout"
        }
      ]
    }
  ]
}