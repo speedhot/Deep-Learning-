{
  "nbformat": 4,
  "nbformat_minor": 0,
  "metadata": {
    "colab": {
      "name": "tensorflow2_beta1_practice.ipynb",
      "provenance": [],
      "collapsed_sections": [],
      "toc_visible": true
    },
    "kernelspec": {
      "name": "python3",
      "display_name": "Python 3"
    }
  },
  "cells": [
    {
      "cell_type": "code",
      "metadata": {
        "id": "tW795-S2ejc5",
        "colab_type": "code",
        "outputId": "29f20bf1-ef96-4eea-e0cf-b2cf845d4526",
        "colab": {
          "base_uri": "https://localhost:8080/",
          "height": 377
        }
      },
      "source": [
        "from __future__ import  absolute_import, division, print_function, unicode_literals\n",
        "!pip install tensorflow==2.0.0beta-1"
      ],
      "execution_count": 11,
      "outputs": [
        {
          "output_type": "stream",
          "text": [
            "Requirement already satisfied: tensorflow==2.0.0beta-1 in /usr/local/lib/python3.6/dist-packages (2.0.0b1)\n",
            "Requirement already satisfied: keras-applications>=1.0.6 in /usr/local/lib/python3.6/dist-packages (from tensorflow==2.0.0beta-1) (1.0.8)\n",
            "Requirement already satisfied: google-pasta>=0.1.6 in /usr/local/lib/python3.6/dist-packages (from tensorflow==2.0.0beta-1) (0.1.7)\n",
            "Requirement already satisfied: absl-py>=0.7.0 in /usr/local/lib/python3.6/dist-packages (from tensorflow==2.0.0beta-1) (0.8.0)\n",
            "Requirement already satisfied: keras-preprocessing>=1.0.5 in /usr/local/lib/python3.6/dist-packages (from tensorflow==2.0.0beta-1) (1.1.0)\n",
            "Requirement already satisfied: protobuf>=3.6.1 in /usr/local/lib/python3.6/dist-packages (from tensorflow==2.0.0beta-1) (3.7.1)\n",
            "Requirement already satisfied: numpy<2.0,>=1.14.5 in /usr/local/lib/python3.6/dist-packages (from tensorflow==2.0.0beta-1) (1.16.5)\n",
            "Requirement already satisfied: astor>=0.6.0 in /usr/local/lib/python3.6/dist-packages (from tensorflow==2.0.0beta-1) (0.8.0)\n",
            "Requirement already satisfied: wrapt>=1.11.1 in /usr/local/lib/python3.6/dist-packages (from tensorflow==2.0.0beta-1) (1.11.2)\n",
            "Requirement already satisfied: tf-estimator-nightly<1.14.0.dev2019060502,>=1.14.0.dev2019060501 in /usr/local/lib/python3.6/dist-packages (from tensorflow==2.0.0beta-1) (1.14.0.dev2019060501)\n",
            "Requirement already satisfied: termcolor>=1.1.0 in /usr/local/lib/python3.6/dist-packages (from tensorflow==2.0.0beta-1) (1.1.0)\n",
            "Requirement already satisfied: tb-nightly<1.14.0a20190604,>=1.14.0a20190603 in /usr/local/lib/python3.6/dist-packages (from tensorflow==2.0.0beta-1) (1.14.0a20190603)\n",
            "Requirement already satisfied: gast>=0.2.0 in /usr/local/lib/python3.6/dist-packages (from tensorflow==2.0.0beta-1) (0.2.2)\n",
            "Requirement already satisfied: wheel>=0.26 in /usr/local/lib/python3.6/dist-packages (from tensorflow==2.0.0beta-1) (0.33.6)\n",
            "Requirement already satisfied: grpcio>=1.8.6 in /usr/local/lib/python3.6/dist-packages (from tensorflow==2.0.0beta-1) (1.15.0)\n",
            "Requirement already satisfied: six>=1.10.0 in /usr/local/lib/python3.6/dist-packages (from tensorflow==2.0.0beta-1) (1.12.0)\n",
            "Requirement already satisfied: h5py in /usr/local/lib/python3.6/dist-packages (from keras-applications>=1.0.6->tensorflow==2.0.0beta-1) (2.8.0)\n",
            "Requirement already satisfied: setuptools in /usr/local/lib/python3.6/dist-packages (from protobuf>=3.6.1->tensorflow==2.0.0beta-1) (41.2.0)\n",
            "Requirement already satisfied: werkzeug>=0.11.15 in /usr/local/lib/python3.6/dist-packages (from tb-nightly<1.14.0a20190604,>=1.14.0a20190603->tensorflow==2.0.0beta-1) (0.16.0)\n",
            "Requirement already satisfied: markdown>=2.6.8 in /usr/local/lib/python3.6/dist-packages (from tb-nightly<1.14.0a20190604,>=1.14.0a20190603->tensorflow==2.0.0beta-1) (3.1.1)\n"
          ],
          "name": "stdout"
        }
      ]
    },
    {
      "cell_type": "code",
      "metadata": {
        "id": "Bvi33f-Zfnq-",
        "colab_type": "code",
        "outputId": "44504b64-8bfe-418e-bc9c-bf905818ffd3",
        "colab": {
          "base_uri": "https://localhost:8080/",
          "height": 51
        }
      },
      "source": [
        "#import and check version\n",
        "import tensorflow as tf\n",
        "import numpy as np\n",
        "print(tf.__version__)\n",
        "print(tf.keras.__version__)"
      ],
      "execution_count": 12,
      "outputs": [
        {
          "output_type": "stream",
          "text": [
            "2.0.0-beta1\n",
            "2.2.4-tf\n"
          ],
          "name": "stdout"
        }
      ]
    },
    {
      "cell_type": "markdown",
      "metadata": {
        "id": "CGZuiKOhf9OZ",
        "colab_type": "text"
      },
      "source": [
        "#Example 1:Linear Regression using tensorflow 2.0.0-beta1"
      ]
    },
    {
      "cell_type": "code",
      "metadata": {
        "id": "sb3WYFDli9gE",
        "colab_type": "code",
        "colab": {}
      },
      "source": [
        "import matplotlib.pyplot as plt"
      ],
      "execution_count": 0,
      "outputs": []
    },
    {
      "cell_type": "code",
      "metadata": {
        "id": "0VhFLnWuf6sd",
        "colab_type": "code",
        "colab": {}
      },
      "source": [
        "# Hyperparameters Parameters.\n",
        "learning_rate = 0.01\n",
        "training_steps = 1000\n",
        "display_step = 50"
      ],
      "execution_count": 0,
      "outputs": []
    },
    {
      "cell_type": "code",
      "metadata": {
        "id": "-rvYU0nBgjnR",
        "colab_type": "code",
        "colab": {}
      },
      "source": [
        "#load data  --- now taking random data but perform this with any csv data later------\n",
        "# Training Data.\n",
        "X = np.array([3.3,4.4,5.5,6.71,6.93,4.168,9.779,6.182,7.59,2.167,\n",
        "              7.042,10.791,5.313,7.997,5.654,9.27,3.1])\n",
        "Y = np.array([1.7,2.76,2.09,3.19,1.694,1.573,3.366,2.596,2.53,1.221,\n",
        "              2.827,3.465,1.65,2.904,2.42,2.94,1.3])\n",
        "n_samples = X.shape[0]\n"
      ],
      "execution_count": 0,
      "outputs": []
    },
    {
      "cell_type": "code",
      "metadata": {
        "id": "MCeuui0khD7_",
        "colab_type": "code",
        "colab": {}
      },
      "source": [
        "# Weight and Bias, initialized randomly.\n",
        "W = tf.Variable(np.random.randn(), name=\"weight\")\n",
        "b = tf.Variable(np.random.randn(), name=\"bias\")\n",
        "\n",
        "# Linear regression (Wx + b).\n",
        "def linear_regression(x):\n",
        "    return W * x + b\n",
        "\n",
        "# Mean square error.\n",
        "def mean_square(y_pred, y_true):\n",
        "    return tf.reduce_sum(tf.pow(y_pred-y_true, 2)) / (2 * n_samples)\n",
        "\n",
        "# Stochastic Gradient Descent Optimizer.\n",
        "optimizer = tf.optimizers.SGD(learning_rate)"
      ],
      "execution_count": 0,
      "outputs": []
    },
    {
      "cell_type": "code",
      "metadata": {
        "id": "bsWdRDZ9hatk",
        "colab_type": "code",
        "colab": {}
      },
      "source": [
        "# Optimization process. \n",
        "def run_optimization():\n",
        "    # Wrap computation inside a GradientTape for automatic differentiation.\n",
        "    with tf.GradientTape() as g:\n",
        "        pred = linear_regression(X)\n",
        "        loss = mean_square(pred, Y)\n",
        "\n",
        "    # Compute gradients.\n",
        "    gradients = g.gradient(loss, [W, b])\n",
        "    \n",
        "    # Update W and b following gradients.\n",
        "    optimizer.apply_gradients(zip(gradients, [W, b]))"
      ],
      "execution_count": 0,
      "outputs": []
    },
    {
      "cell_type": "code",
      "metadata": {
        "id": "79ODkmFAhuZW",
        "colab_type": "code",
        "outputId": "8286dba8-087e-4941-ceaa-6e82934228c3",
        "colab": {
          "base_uri": "https://localhost:8080/",
          "height": 428
        }
      },
      "source": [
        "# Run training for the given number of steps.\n",
        "for step in range(1, training_steps + 1):\n",
        "    # Run the optimization to update W and b values.\n",
        "    run_optimization()\n",
        "    \n",
        "    if step % display_step == 0:\n",
        "        pred = linear_regression(X)\n",
        "        loss = mean_square(pred, Y)\n",
        "        print(f\"step: {step}, loss: {loss}, W: {W.numpy()}, b: { b.numpy()}\")"
      ],
      "execution_count": 18,
      "outputs": [
        {
          "output_type": "stream",
          "text": [
            "WARNING:tensorflow:From /usr/local/lib/python3.6/dist-packages/tensorflow/python/ops/math_grad.py:1205: add_dispatch_support.<locals>.wrapper (from tensorflow.python.ops.array_ops) is deprecated and will be removed in a future version.\n",
            "Instructions for updating:\n",
            "Use tf.where in 2.0, which has the same broadcast rule as np.where\n",
            "step: 50, loss: 0.29165175557136536, W: 0.5143463611602783, b: -1.0637043714523315\n",
            "step: 100, loss: 0.2670937180519104, W: 0.4988670349121094, b: -0.9539631009101868\n",
            "step: 150, loss: 0.24534447491168976, W: 0.48429983854293823, b: -0.8506883382797241\n",
            "step: 200, loss: 0.2260826975107193, W: 0.4705909788608551, b: -0.7534986138343811\n",
            "step: 250, loss: 0.20902392268180847, W: 0.4576898515224457, b: -0.6620354652404785\n",
            "step: 300, loss: 0.19391611218452454, W: 0.4455488920211792, b: -0.5759613513946533\n",
            "step: 350, loss: 0.18053624033927917, W: 0.4341232478618622, b: -0.4949588477611542\n",
            "step: 400, loss: 0.1686866134405136, W: 0.4233708381652832, b: -0.4187290668487549\n",
            "step: 450, loss: 0.1581922173500061, W: 0.41325193643569946, b: -0.34699076414108276\n",
            "step: 500, loss: 0.14889809489250183, W: 0.40372931957244873, b: -0.2794794738292694\n",
            "step: 550, loss: 0.14066694676876068, W: 0.39476773142814636, b: -0.21594594419002533\n",
            "step: 600, loss: 0.13337717950344086, W: 0.3863341808319092, b: -0.15615592896938324\n",
            "step: 650, loss: 0.126921147108078, W: 0.3783975839614868, b: -0.09988878667354584\n",
            "step: 700, loss: 0.12120351940393448, W: 0.370928555727005, b: -0.046936992555856705\n",
            "step: 750, loss: 0.11613978445529938, W: 0.3638996481895447, b: 0.002894841367378831\n",
            "step: 800, loss: 0.11165522038936615, W: 0.35728490352630615, b: 0.04979051649570465\n",
            "step: 850, loss: 0.10768353939056396, W: 0.3510598838329315, b: 0.09392303228378296\n",
            "step: 900, loss: 0.10416609793901443, W: 0.34520167112350464, b: 0.13545526564121246\n",
            "step: 950, loss: 0.1010509729385376, W: 0.33968859910964966, b: 0.17454031109809875\n",
            "step: 1000, loss: 0.09829209744930267, W: 0.33450040221214294, b: 0.21132251620292664\n"
          ],
          "name": "stdout"
        }
      ]
    },
    {
      "cell_type": "code",
      "metadata": {
        "id": "J1bJC34djHNf",
        "colab_type": "code",
        "outputId": "48a56890-1782-4d17-ca4f-b1bb6e22a4e4",
        "colab": {
          "base_uri": "https://localhost:8080/",
          "height": 286
        }
      },
      "source": [
        "# Graphic display\n",
        "tf.print(f\"final weight:{W.numpy()} and bias:{b.numpy()}\")\n",
        "plt.plot(X, Y, 'ro', label='Original data')\n",
        "plt.plot(X, np.array(W * X + b), label='Fitted line')\n",
        "\n",
        "plt.legend()\n",
        "plt.show()"
      ],
      "execution_count": 19,
      "outputs": [
        {
          "output_type": "stream",
          "text": [
            "final weight:0.33450040221214294 and bias:0.21132251620292664\n"
          ],
          "name": "stdout"
        },
        {
          "output_type": "display_data",
          "data": {
            "image/png": "[encoded data removed]",
            "text/plain": [
              "<Figure size 432x288 with 1 Axes>"
            ]
          },
          "metadata": {
            "tags": []
          }
        }
      ]
    },
    {
      "cell_type": "markdown",
      "metadata": {
        "id": "BHkBgrTikOZX",
        "colab_type": "text"
      },
      "source": [
        "# Logistic Regression with tensorflow 2.0.0-beta1\n",
        "\n",
        "Over MNIST dataset available in colab"
      ]
    },
    {
      "cell_type": "code",
      "metadata": {
        "id": "6tOpPcaHkNOC",
        "colab_type": "code",
        "colab": {}
      },
      "source": [
        "# MNIST dataset parameters.\n",
        "num_classes = 10 # 0 to 9 digits\n",
        "image_vector_size = 784 # 28*28\n",
        "\n",
        "# Training parameters.\n",
        "learning_rate = 0.01\n",
        "training_steps = 1000\n",
        "batch_size = 156\n",
        "display_step = 50"
      ],
      "execution_count": 0,
      "outputs": []
    },
    {
      "cell_type": "code",
      "metadata": {
        "id": "WdoJ4fMJk-3C",
        "colab_type": "code",
        "outputId": "f32c4164-434b-4ebb-db99-b9a29032920a",
        "colab": {
          "base_uri": "https://localhost:8080/",
          "height": 102
        }
      },
      "source": [
        "# Prepare MNIST data.\n",
        "mnist = tf.keras.datasets.mnist\n",
        "(x_train, y_train), (x_test, y_test) = mnist.load_data()\n",
        "# Normalize images value as max value is 255\n",
        "x_train, x_test = x_train / 255, x_test / 255\n",
        "\n",
        "#checking shape for all and unique labels in target\n",
        "x_train.shape, y_train.shape, x_test.shape, y_test.shape, np.unique(y_train)"
      ],
      "execution_count": 21,
      "outputs": [
        {
          "output_type": "execute_result",
          "data": {
            "text/plain": [
              "((60000, 28, 28),\n",
              " (60000,),\n",
              " (10000, 28, 28),\n",
              " (10000,),\n",
              " array([0, 1, 2, 3, 4, 5, 6, 7, 8, 9], dtype=uint8))"
            ]
          },
          "metadata": {
            "tags": []
          },
          "execution_count": 21
        }
      ]
    },
    {
      "cell_type": "code",
      "metadata": {
        "id": "K0tvjSAomLKC",
        "colab_type": "code",
        "outputId": "b497ecf6-3fce-4a5b-a2fe-8c0d5054c269",
        "colab": {
          "base_uri": "https://localhost:8080/",
          "height": 34
        }
      },
      "source": [
        "#checking datatypes\n",
        "x_train.dtype, y_train.dtype, x_test.dtype, y_test.dtype"
      ],
      "execution_count": 22,
      "outputs": [
        {
          "output_type": "execute_result",
          "data": {
            "text/plain": [
              "(dtype('float64'), dtype('uint8'), dtype('float64'), dtype('uint8'))"
            ]
          },
          "metadata": {
            "tags": []
          },
          "execution_count": 22
        }
      ]
    },
    {
      "cell_type": "code",
      "metadata": {
        "id": "mkjWD12-ZByU",
        "colab_type": "code",
        "outputId": "f95f8d49-cc8a-4253-a7c4-91e5537cdccc",
        "colab": {
          "base_uri": "https://localhost:8080/",
          "height": 34
        }
      },
      "source": [
        "#coverting to float32 as random generated weight will be in float32\n",
        "x_train, x_test = tf.cast(x_train, np.float32), tf.cast(x_test, np.float32)\n",
        "x_train.dtype, y_train.dtype, x_test.dtype, y_test.dtype"
      ],
      "execution_count": 23,
      "outputs": [
        {
          "output_type": "execute_result",
          "data": {
            "text/plain": [
              "(tf.float32, dtype('uint8'), tf.float32, dtype('uint8'))"
            ]
          },
          "metadata": {
            "tags": []
          },
          "execution_count": 23
        }
      ]
    },
    {
      "cell_type": "code",
      "metadata": {
        "id": "0R0rtEgHmgHV",
        "colab_type": "code",
        "outputId": "2cbb0ddf-a1b7-4f34-bd53-9984ebef6d95",
        "colab": {
          "base_uri": "https://localhost:8080/",
          "height": 623
        }
      },
      "source": [
        "#display image from train set and test set\n",
        "def display_image_label(featureset, labelset):\n",
        "  img_no= np.random.randint(0, featureset.shape[0])\n",
        "  img = featureset[img_no]\n",
        "  label= labelset[img_no]\n",
        "  print(f\" image no:{img_no}   Label:{label}\") # multiplying with 255 as we scaled with it\n",
        "  plt.imshow(img, cmap=plt.cm.binary)\n",
        "  plt.show()\n",
        "  \n",
        "print(\"Traing Set Sample Display:\\n\",\"=\"*50)\n",
        "display_image_label(x_train, y_train)\n",
        "print(\"Test Set Sample Display:\\n\",\"=\"*50)\n",
        "display_image_label(x_test, y_test)"
      ],
      "execution_count": 24,
      "outputs": [
        {
          "output_type": "stream",
          "text": [
            "Traing Set Sample Display:\n",
            " ==================================================\n",
            " image no:12929   Label:1\n"
          ],
          "name": "stdout"
        },
        {
          "output_type": "display_data",
          "data": {
            "image/png": "[encoded data removed]",
            "text/plain": [
              "<Figure size 432x288 with 1 Axes>"
            ]
          },
          "metadata": {
            "tags": []
          }
        },
        {
          "output_type": "stream",
          "text": [
            "Test Set Sample Display:\n",
            " ==================================================\n",
            " image no:7956   Label:3\n"
          ],
          "name": "stdout"
        },
        {
          "output_type": "display_data",
          "data": {
            "image/png": "[encoded data removed]",
            "text/plain": [
              "<Figure size 432x288 with 1 Axes>"
            ]
          },
          "metadata": {
            "tags": []
          }
        }
      ]
    },
    {
      "cell_type": "code",
      "metadata": {
        "id": "WdnTPHU5lhPA",
        "colab_type": "code",
        "colab": {}
      },
      "source": [
        "# Flatten images \n",
        "x_train=tf.reshape(x_train, [x_train.shape[0], image_vector_size])\n",
        "x_test=tf.reshape(x_test, [x_test.shape[0], image_vector_size])"
      ],
      "execution_count": 0,
      "outputs": []
    },
    {
      "cell_type": "code",
      "metadata": {
        "id": "noibrHeqoLRc",
        "colab_type": "code",
        "outputId": "587215b6-65f1-4b82-92f8-dd7596e218c3",
        "colab": {
          "base_uri": "https://localhost:8080/",
          "height": 119
        }
      },
      "source": [
        "#checking shape for all and unique labels in target\n",
        "x_train.shape,x_train.dtype, y_train.shape, x_test.shape, y_test.shape, np.unique(y_train)"
      ],
      "execution_count": 26,
      "outputs": [
        {
          "output_type": "execute_result",
          "data": {
            "text/plain": [
              "(TensorShape([60000, 784]),\n",
              " tf.float32,\n",
              " (60000,),\n",
              " TensorShape([10000, 784]),\n",
              " (10000,),\n",
              " array([0, 1, 2, 3, 4, 5, 6, 7, 8, 9], dtype=uint8))"
            ]
          },
          "metadata": {
            "tags": []
          },
          "execution_count": 26
        }
      ]
    },
    {
      "cell_type": "code",
      "metadata": {
        "id": "pdlKqJESoVam",
        "colab_type": "code",
        "outputId": "ce78a5e2-e3c1-4ee4-80c5-28ce83439b91",
        "colab": {
          "base_uri": "https://localhost:8080/",
          "height": 623
        }
      },
      "source": [
        "#test if reshaped well\n",
        "def display_image_reshape_test(featureset, labelset):\n",
        "  img_no= np.random.randint(0, featureset.shape[0])\n",
        "  img = tf.reshape(featureset[img_no],[28,28])\n",
        "  label= labelset[img_no]\n",
        "  print(f\" image no:{img_no}  label is :{label}\") # multiplying with 255 as we scaled with it\n",
        "  plt.imshow(img, cmap=plt.cm.binary)\n",
        "  plt.show()\n",
        "  \n",
        "  \n",
        "print(\"Traing Set Sample Display:\\n\",\"=\"*50)\n",
        "display_image_reshape_test(x_train, y_train)\n",
        "print(\"Test Set Sample Display:\\n\",\"=\"*50)\n",
        "display_image_reshape_test(x_test, y_test)"
      ],
      "execution_count": 27,
      "outputs": [
        {
          "output_type": "stream",
          "text": [
            "Traing Set Sample Display:\n",
            " ==================================================\n",
            " image no:38517  label is :7\n"
          ],
          "name": "stdout"
        },
        {
          "output_type": "display_data",
          "data": {
            "image/png": "[encoded data removed]",
            "text/plain": [
              "<Figure size 432x288 with 1 Axes>"
            ]
          },
          "metadata": {
            "tags": []
          }
        },
        {
          "output_type": "stream",
          "text": [
            "Test Set Sample Display:\n",
            " ==================================================\n",
            " image no:3142  label is :2\n"
          ],
          "name": "stdout"
        },
        {
          "output_type": "display_data",
          "data": {
            "image/png": "[encoded data removed]",
            "text/plain": [
              "<Figure size 432x288 with 1 Axes>"
            ]
          },
          "metadata": {
            "tags": []
          }
        }
      ]
    },
    {
      "cell_type": "code",
      "metadata": {
        "id": "WqmNoEjAopHI",
        "colab_type": "code",
        "colab": {}
      },
      "source": [
        "# Use tf.data API to shuffle and batch data. can check --https://www.tensorflow.org/guide/data for description\n",
        "train_data = tf.data.Dataset.from_tensor_slices((x_train, y_train))\n",
        "train_data = train_data.repeat().shuffle(5000).batch(batch_size).prefetch(1)\n"
      ],
      "execution_count": 0,
      "outputs": []
    },
    {
      "cell_type": "code",
      "metadata": {
        "id": "Mfomhlr0Dw2T",
        "colab_type": "code",
        "colab": {}
      },
      "source": [
        "# Creating Weight Tensor of shape [784, 10]\n",
        "W = tf.Variable(tf.ones([image_vector_size, num_classes]), name=\"weight\")\n",
        "# Creating Bias Tensor of shape [10], the total number of classes.\n",
        "b = tf.Variable(tf.zeros([num_classes]), name=\"bias\")\n",
        "\n",
        "# Logistic regression softmax((Wx + b)), as multiclass classification\n",
        "def logistic_regression(x):\n",
        "    #Softmax\n",
        "    return tf.nn.softmax(tf.matmul(x, W) + b)\n",
        "\n",
        "# Cross-Entropy loss function.\n",
        "def cross_entropy(y_pred, y_true):\n",
        "    # One hot Encoded label as vector.\n",
        "    y_true = tf.one_hot(y_true, depth=num_classes)\n",
        "    # Clip to avoid log(0) error.\n",
        "    y_pred = tf.clip_by_value(y_pred, 1e-9, 1.)\n",
        "    # Compute cross-entropy.\n",
        "    return tf.reduce_mean(-tf.reduce_sum(y_true * tf.math.log(y_pred)))\n",
        "\n",
        "# Accuracy metric.\n",
        "def accuracy(y_pred, y_true):\n",
        "    # Computing accuracy by using argmax on softmax probabilities\n",
        "    correct_prediction = tf.equal(tf.argmax(y_pred, 1), tf.cast(y_true, tf.int64))\n",
        "    return tf.reduce_mean(tf.cast(correct_prediction, tf.float32))\n",
        "\n",
        "# SGD Optimizer.\n",
        "optimizer = tf.optimizers.Adam(learning_rate)\n"
      ],
      "execution_count": 0,
      "outputs": []
    },
    {
      "cell_type": "code",
      "metadata": {
        "id": "_lEqj2CmNnCz",
        "colab_type": "code",
        "colab": {}
      },
      "source": [
        "# Optimization \n",
        "def run_optimization(x, y):\n",
        "    # Wrap computation inside a GradientTape for automatic differentiation.\n",
        "    with tf.GradientTape() as g:\n",
        "        pred = logistic_regression(x)\n",
        "        loss = cross_entropy(pred, y)\n",
        "\n",
        "    # Compute gradients.\n",
        "    gradients = g.gradient(loss, [W, b])\n",
        "    \n",
        "    # Update W and b following gradients.\n",
        "    optimizer.apply_gradients(zip(gradients, [W, b]))"
      ],
      "execution_count": 0,
      "outputs": []
    },
    {
      "cell_type": "code",
      "metadata": {
        "id": "Ho5j8fG6N3dA",
        "colab_type": "code",
        "outputId": "dbebed4f-5e24-4dd3-8cb4-ec49e9879f23",
        "colab": {
          "base_uri": "https://localhost:8080/",
          "height": 609
        }
      },
      "source": [
        "loss_list, accuracy_list = [], []\n",
        "# Run training for the given number of steps.\n",
        "for step, (batch_x, batch_y) in enumerate(train_data.take(training_steps), 1):\n",
        "    # Run the optimization to update W and b values.\n",
        "    run_optimization(batch_x, batch_y)\n",
        "    \n",
        "    if step % display_step == 0:\n",
        "        pred = logistic_regression(batch_x)\n",
        "        loss = cross_entropy(pred, batch_y)\n",
        "        loss_list.append(loss)\n",
        "        acc = accuracy(pred, batch_y)\n",
        "        accuracy_list.append(acc)\n",
        "        print(f\"step: {step}, loss: {loss}, accuracy: {acc}\")\n",
        "\n",
        "plt.plot(loss_list, label=\"Loss\")\n",
        "\n",
        "plt.legend()\n",
        "plt.show()"
      ],
      "execution_count": 31,
      "outputs": [
        {
          "output_type": "stream",
          "text": [
            "step: 50, loss: 57.69846725463867, accuracy: 0.8717948794364929\n",
            "step: 100, loss: 45.033172607421875, accuracy: 0.9166666865348816\n",
            "step: 150, loss: 40.16856384277344, accuracy: 0.9358974099159241\n",
            "step: 200, loss: 35.81727600097656, accuracy: 0.9166666865348816\n",
            "step: 250, loss: 63.087608337402344, accuracy: 0.8717948794364929\n",
            "step: 300, loss: 84.76160430908203, accuracy: 0.8717948794364929\n",
            "step: 350, loss: 35.37940979003906, accuracy: 0.942307710647583\n",
            "step: 400, loss: 36.55703353881836, accuracy: 0.9294871687889099\n",
            "step: 450, loss: 40.22669219970703, accuracy: 0.9294871687889099\n",
            "step: 500, loss: 34.710567474365234, accuracy: 0.9487179517745972\n",
            "step: 550, loss: 28.099346160888672, accuracy: 0.9487179517745972\n",
            "step: 600, loss: 42.26246643066406, accuracy: 0.9102563858032227\n",
            "step: 650, loss: 41.44031524658203, accuracy: 0.9294871687889099\n",
            "step: 700, loss: 53.49677276611328, accuracy: 0.8974359035491943\n",
            "step: 750, loss: 46.410438537597656, accuracy: 0.9038461446762085\n",
            "step: 800, loss: 50.2236213684082, accuracy: 0.9166666865348816\n",
            "step: 850, loss: 53.31062316894531, accuracy: 0.9294871687889099\n",
            "step: 900, loss: 40.39806365966797, accuracy: 0.9294871687889099\n",
            "step: 950, loss: 47.348724365234375, accuracy: 0.9166666865348816\n",
            "step: 1000, loss: 49.21778869628906, accuracy: 0.9294871687889099\n"
          ],
          "name": "stdout"
        },
        {
          "output_type": "display_data",
          "data": {
            "image/png": "[encoded data removed]",
            "text/plain": [
              "<Figure size 432x288 with 1 Axes>"
            ]
          },
          "metadata": {
            "tags": []
          }
        }
      ]
    },
    {
      "cell_type": "code",
      "metadata": {
        "id": "gEF_MB6TTpDQ",
        "colab_type": "code",
        "outputId": "9b8e8cc3-9256-4a09-b399-d8e19ca52702",
        "colab": {
          "base_uri": "https://localhost:8080/",
          "height": 269
        }
      },
      "source": [
        "plt.plot(accuracy_list, label=\"Accuracy\")\n",
        "plt.legend()\n",
        "plt.show()"
      ],
      "execution_count": 32,
      "outputs": [
        {
          "output_type": "display_data",
          "data": {
            "image/png": "[encoded data removed]",
            "text/plain": [
              "<Figure size 432x288 with 1 Axes>"
            ]
          },
          "metadata": {
            "tags": []
          }
        }
      ]
    },
    {
      "cell_type": "code",
      "metadata": {
        "id": "ELrR52FcAzRX",
        "colab_type": "code",
        "outputId": "430741c2-a9b2-4b09-c561-60feb92b851c",
        "colab": {
          "base_uri": "https://localhost:8080/",
          "height": 1000
        }
      },
      "source": [
        "#random prediction and validation test on 10 images from test data selected randomly\n",
        "\n",
        "def random_validation_test(test_dataset, test_labelset):\n",
        "  start_chunk = np.random.randint(0, test_dataset.shape[0])\n",
        "  end_chunk = start_chunk+10\n",
        "  images = test_dataset[start_chunk:end_chunk]\n",
        "  predicted = logistic_regression(test_dataset[start_chunk:end_chunk])\n",
        "  counter = 0;\n",
        "  correct = 0;\n",
        "  for img in range(start_chunk,end_chunk):\n",
        "    plt.imshow(tf.reshape(test_dataset[img],[28,28]), cmap='gray')\n",
        "    plt.show()\n",
        "    pred = np.argmax(predicted.numpy()[counter])\n",
        "    act_label = test_labelset[img]\n",
        "    \n",
        "    if pred == act_label:\n",
        "      status = \"Congratulations! Predicted Correctly.\"\n",
        "      correct +=1\n",
        "    else:\n",
        "      status = \"Opps! Wrong Prediction.\"\n",
        "    print(f\"Image No. : {img} , Predicted Label by Model :{pred}, Actual Label: {act_label}, Status: {status}\")\n",
        "    \n",
        "    counter = counter+1;\n",
        "  print(f\"{correct} prediction out of {10}\")  \n",
        "  \n",
        "random_validation_test(x_test, y_test)"
      ],
      "execution_count": 33,
      "outputs": [
        {
          "output_type": "display_data",
          "data": {
            "image/png": "[encoded data removed]",
            "text/plain": [
              "<Figure size 432x288 with 1 Axes>"
            ]
          },
          "metadata": {
            "tags": []
          }
        },
        {
          "output_type": "stream",
          "text": [
            "Image No. : 8566 , Predicted Label by Model :8, Actual Label: 8, Status: Congratulations! Predicted Correctly.\n"
          ],
          "name": "stdout"
        },
        {
          "output_type": "display_data",
          "data": {
            "image/png": "[encoded data removed]",
            "text/plain": [
              "<Figure size 432x288 with 1 Axes>"
            ]
          },
          "metadata": {
            "tags": []
          }
        },
        {
          "output_type": "stream",
          "text": [
            "Image No. : 8567 , Predicted Label by Model :0, Actual Label: 0, Status: Congratulations! Predicted Correctly.\n"
          ],
          "name": "stdout"
        },
        {
          "output_type": "display_data",
          "data": {
            "image/png": "[encoded data removed]",
            "text/plain": [
              "<Figure size 432x288 with 1 Axes>"
            ]
          },
          "metadata": {
            "tags": []
          }
        },
        {
          "output_type": "stream",
          "text": [
            "Image No. : 8568 , Predicted Label by Model :1, Actual Label: 1, Status: Congratulations! Predicted Correctly.\n"
          ],
          "name": "stdout"
        },
        {
          "output_type": "display_data",
          "data": {
            "image/png": "[encoded data removed]",
            "text/plain": [
              "<Figure size 432x288 with 1 Axes>"
            ]
          },
          "metadata": {
            "tags": []
          }
        },
        {
          "output_type": "stream",
          "text": [
            "Image No. : 8569 , Predicted Label by Model :2, Actual Label: 2, Status: Congratulations! Predicted Correctly.\n"
          ],
          "name": "stdout"
        },
        {
          "output_type": "display_data",
          "data": {
            "image/png": "[encoded data removed]",
            "text/plain": [
              "<Figure size 432x288 with 1 Axes>"
            ]
          },
          "metadata": {
            "tags": []
          }
        },
        {
          "output_type": "stream",
          "text": [
            "Image No. : 8570 , Predicted Label by Model :3, Actual Label: 3, Status: Congratulations! Predicted Correctly.\n"
          ],
          "name": "stdout"
        },
        {
          "output_type": "display_data",
          "data": {
            "image/png": "[encoded data removed]",
            "text/plain": [
              "<Figure size 432x288 with 1 Axes>"
            ]
          },
          "metadata": {
            "tags": []
          }
        },
        {
          "output_type": "stream",
          "text": [
            "Image No. : 8571 , Predicted Label by Model :5, Actual Label: 5, Status: Congratulations! Predicted Correctly.\n"
          ],
          "name": "stdout"
        },
        {
          "output_type": "display_data",
          "data": {
            "image/png": "[encoded data removed]",
            "text/plain": [
              "<Figure size 432x288 with 1 Axes>"
            ]
          },
          "metadata": {
            "tags": []
          }
        },
        {
          "output_type": "stream",
          "text": [
            "Image No. : 8572 , Predicted Label by Model :6, Actual Label: 6, Status: Congratulations! Predicted Correctly.\n"
          ],
          "name": "stdout"
        },
        {
          "output_type": "display_data",
          "data": {
            "image/png": "[encoded data removed]",
            "text/plain": [
              "<Figure size 432x288 with 1 Axes>"
            ]
          },
          "metadata": {
            "tags": []
          }
        },
        {
          "output_type": "stream",
          "text": [
            "Image No. : 8573 , Predicted Label by Model :7, Actual Label: 7, Status: Congratulations! Predicted Correctly.\n"
          ],
          "name": "stdout"
        },
        {
          "output_type": "display_data",
          "data": {
            "image/png": "[encoded data removed]",
            "text/plain": [
              "<Figure size 432x288 with 1 Axes>"
            ]
          },
          "metadata": {
            "tags": []
          }
        },
        {
          "output_type": "stream",
          "text": [
            "Image No. : 8574 , Predicted Label by Model :8, Actual Label: 8, Status: Congratulations! Predicted Correctly.\n"
          ],
          "name": "stdout"
        },
        {
          "output_type": "display_data",
          "data": {
            "image/png": "[encoded data removed]",
            "text/plain": [
              "<Figure size 432x288 with 1 Axes>"
            ]
          },
          "metadata": {
            "tags": []
          }
        },
        {
          "output_type": "stream",
          "text": [
            "Image No. : 8575 , Predicted Label by Model :1, Actual Label: 1, Status: Congratulations! Predicted Correctly.\n",
            "10 prediction out of 10\n"
          ],
          "name": "stdout"
        }
      ]
    },
    {
      "cell_type": "code",
      "metadata": {
        "id": "kJiOZtUWnVCw",
        "colab_type": "code",
        "outputId": "d6169bc8-e14a-4a68-9335-a8db4733643f",
        "colab": {
          "base_uri": "https://localhost:8080/",
          "height": 34
        }
      },
      "source": [
        "#accuracy on test dataset\n",
        "test_prediction = logistic_regression(x_test)\n",
        "print(\"accuracy over test dataset:\",accuracy(test_prediction, y_test).numpy())\n",
        "\n"
      ],
      "execution_count": 34,
      "outputs": [
        {
          "output_type": "stream",
          "text": [
            "accuracy over test dataset: 0.9234\n"
          ],
          "name": "stdout"
        }
      ]
    },
    {
      "cell_type": "code",
      "metadata": {
        "id": "u_JwS7V8RxYk",
        "colab_type": "code",
        "colab": {
          "base_uri": "https://localhost:8080/",
          "height": 240
        },
        "outputId": "7fda2d9e-cb76-4edf-c535-796763e3a7f2"
      },
      "source": [
        "#weight matrix plot\n",
        "for i in range(10):\n",
        "  plt.subplot(2,5, i+1)\n",
        "  weights = W[:,i]\n",
        "  plt.title(i)\n",
        "  plt.imshow(tf.reshape(weights, [28,28]), cmap=plt.get_cmap('seismic'))\n",
        "  plt.gca()\n",
        "  plt.axis('off')"
      ],
      "execution_count": 43,
      "outputs": [
        {
          "output_type": "display_data",
          "data": {
            "image/png": "[encoded data removed]",
            "text/plain": [
              "<Figure size 432x288 with 10 Axes>"
            ]
          },
          "metadata": {
            "tags": []
          }
        }
      ]
    }
  ]
}